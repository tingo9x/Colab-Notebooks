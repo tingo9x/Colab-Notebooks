{
  "nbformat": 4,
  "nbformat_minor": 0,
  "metadata": {
    "colab": {
      "name": "100 bai tap Python",
      "provenance": [],
      "collapsed_sections": [],
      "toc_visible": true
    },
    "kernelspec": {
      "display_name": "Python 3",
      "name": "python3"
    }
  },
  "cells": [
    {
      "cell_type": "markdown",
      "metadata": {
        "id": "TPrcfg4Pmw5R"
      },
      "source": [
        "##100 bài tập Python (quantrimang.com)"
      ]
    },
    {
      "cell_type": "markdown",
      "metadata": {
        "id": "Y1ciN-A9a9ru"
      },
      "source": [
        "### Bài 01:\n",
        "\n",
        "Viết chương trình tìm tất cả các số chia hết cho 7 nhưng không phải bội số của 5, nằm trong đoạn 2000 và 3200 (tính cả 2000 và 3200). Các số thu được sẽ được in thành chuỗi trên một dòng, cách nhau bằng dấu phẩy."
      ]
    },
    {
      "cell_type": "code",
      "metadata": {
        "colab": {
          "base_uri": "https://localhost:8080/"
        },
        "id": "gqrTCCxva_Z7",
        "outputId": "f8645dc7-840b-4ba1-d3fe-b8951216d195"
      },
      "source": [
        "j=[]\n",
        "for i in range(2000,3201):\n",
        "    if (i%7==0) & (i%5!=0):\n",
        "      j.append(str(i))\n",
        "print(','.join(j))"
      ],
      "execution_count": null,
      "outputs": [
        {
          "output_type": "stream",
          "text": [
            "2002,2009,2016,2023,2037,2044,2051,2058,2072,2079,2086,2093,2107,2114,2121,2128,2142,2149,2156,2163,2177,2184,2191,2198,2212,2219,2226,2233,2247,2254,2261,2268,2282,2289,2296,2303,2317,2324,2331,2338,2352,2359,2366,2373,2387,2394,2401,2408,2422,2429,2436,2443,2457,2464,2471,2478,2492,2499,2506,2513,2527,2534,2541,2548,2562,2569,2576,2583,2597,2604,2611,2618,2632,2639,2646,2653,2667,2674,2681,2688,2702,2709,2716,2723,2737,2744,2751,2758,2772,2779,2786,2793,2807,2814,2821,2828,2842,2849,2856,2863,2877,2884,2891,2898,2912,2919,2926,2933,2947,2954,2961,2968,2982,2989,2996,3003,3017,3024,3031,3038,3052,3059,3066,3073,3087,3094,3101,3108,3122,3129,3136,3143,3157,3164,3171,3178,3192,3199\n"
          ],
          "name": "stdout"
        }
      ]
    },
    {
      "cell_type": "markdown",
      "metadata": {
        "id": "KSN_4qCgd6qh"
      },
      "source": [
        "###Bài 02:\n",
        "\n",
        "Viết một chương trình có thể tính giai thừa của một số cho trước. Kết quả được in thành chuỗi trên một dòng, phân tách bởi dấu phẩy. Ví dụ, số cho trước là 8 thì kết quả đầu ra phải là 40320."
      ]
    },
    {
      "cell_type": "code",
      "metadata": {
        "colab": {
          "base_uri": "https://localhost:8080/"
        },
        "id": "RDT0GNaxd8Dw",
        "outputId": "be272e51-937d-49b9-a1f9-29847d539065"
      },
      "source": [
        "def factorial(n):\n",
        "  factorial=1\n",
        "  if (n==0) or (n==1):\n",
        "      return factorial;\n",
        "  else: \n",
        "      for i in range(1,n+1):\n",
        "          factorial=factorial*i\n",
        "      return factorial; \n",
        "n=int(input('Input an integer n:'))\n",
        "print('The factorial of %d is:' %(n), factorial(n))"
      ],
      "execution_count": null,
      "outputs": [
        {
          "output_type": "stream",
          "text": [
            "Input an integer n:6\n",
            "The factorial of 6 is: 720\n"
          ],
          "name": "stdout"
        }
      ]
    },
    {
      "cell_type": "code",
      "metadata": {
        "colab": {
          "base_uri": "https://localhost:8080/"
        },
        "id": "5ljIms_kiI_a",
        "outputId": "c0e09a5d-46d1-4fc3-a431-a643b51c33f6"
      },
      "source": [
        "#This is a recursive function (hàm đệ quy)\n",
        "def factorial(m):\n",
        "    if m==0:\n",
        "        return 1\n",
        "    return m*factorial(m-1)\n",
        "m=int(input('Input an integer m:'))\n",
        "print('The factorial of %d is:' %(m), factorial(m))"
      ],
      "execution_count": null,
      "outputs": [
        {
          "output_type": "stream",
          "text": [
            "Input an integer m:1\n",
            "The factorial of 1 is: 1\n"
          ],
          "name": "stdout"
        }
      ]
    },
    {
      "cell_type": "markdown",
      "metadata": {
        "id": "vQm_z2kkmk0a"
      },
      "source": [
        "###Bài 03:\n",
        "\n",
        "Với số nguyên n nhất định, hãy viết chương trình để tạo ra một dictionary chứa (i, i*i) như là số nguyên từ 1 đến n (bao gồm cả 1 và n) sau đó in ra dictionary này. Ví dụ: Giả sử số n là 8 thì đầu ra sẽ là: {1: 1, 2: 4, 3: 9, 4: 16, 5: 25, 6: 36, 7: 49, 8: 64}."
      ]
    },
    {
      "cell_type": "code",
      "metadata": {
        "id": "qC5L5Be3mtX3"
      },
      "source": [
        ""
      ],
      "execution_count": null,
      "outputs": []
    }
  ]
}