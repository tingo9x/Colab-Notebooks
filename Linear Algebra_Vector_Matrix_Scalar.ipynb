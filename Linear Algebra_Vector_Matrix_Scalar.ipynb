{
 "cells": [
  {
   "cell_type": "markdown",
   "metadata": {},
   "source": [
    "# Linear Algebra: Vector-Matrix-Scalar"
   ]
  },
  {
   "cell_type": "markdown",
   "metadata": {},
   "source": [
    "## Ex1: Vectors"
   ]
  },
  {
   "cell_type": "code",
   "execution_count": 6,
   "metadata": {
    "id": "S6nrHm7vn7z3"
   },
   "outputs": [],
   "source": [
    "import numpy as np"
   ]
  },
  {
   "cell_type": "markdown",
   "metadata": {
    "id": "6oynxJyNpDRe"
   },
   "source": [
    " #### Câu 1:\n",
    "        a) Viết hàm cal_vectors(op, u, v) với:\n",
    "            op là một trong các toán tử +, -, *, /, \"dot\"\n",
    "            u và v là 2 vectors (numpy array) \n",
    "        b) Thực hiện tính toán theo các toán tử với 2 vectors được truyền vào."
   ]
  },
  {
   "cell_type": "code",
   "execution_count": 7,
   "metadata": {
    "id": "TlwAXRdApE8G"
   },
   "outputs": [],
   "source": [
    "def cal_vectors(op,u,v):\n",
    "  if op=='+':\n",
    "    result = u + v\n",
    "  elif op=='-':\n",
    "    result = u-v\n",
    "  elif op=='*':\n",
    "    result = u*v\n",
    "  elif op=='/':\n",
    "    result = u/v\n",
    "  elif op=='dot':\n",
    "    result = u.dot(v)\n",
    "  else: result = None\n",
    "  return result"
   ]
  },
  {
   "cell_type": "code",
   "execution_count": 8,
   "metadata": {
    "colab": {
     "base_uri": "https://localhost:8080/"
    },
    "id": "x2XvPxjjptbG",
    "outputId": "95bd4036-e8e9-4751-8d1e-147021265063"
   },
   "outputs": [
    {
     "name": "stdout",
     "output_type": "stream",
     "text": [
      "u= [1 3 4 6 3 4 5]\n",
      "v= [4 7 1 2 3 8 9]\n"
     ]
    }
   ],
   "source": [
    "u=np.array([1, 3, 4, 6, 3, 4, 5])\n",
    "v=np.array([4, 7, 1, 2, 3, 8, 9])\n",
    "print('u=',u)\n",
    "print('v=',v)"
   ]
  },
  {
   "cell_type": "code",
   "execution_count": 9,
   "metadata": {
    "colab": {
     "base_uri": "https://localhost:8080/"
    },
    "id": "j7xuI1tIq4-F",
    "outputId": "653864ba-bacc-4b74-8748-85ae1240e379"
   },
   "outputs": [
    {
     "name": "stdout",
     "output_type": "stream",
     "text": [
      "u+v= [ 5 10  5  8  6 12 14]\n"
     ]
    }
   ],
   "source": [
    "print('u+v=',cal_vectors('+',u,v))"
   ]
  },
  {
   "cell_type": "code",
   "execution_count": 10,
   "metadata": {
    "colab": {
     "base_uri": "https://localhost:8080/"
    },
    "id": "XXpc1aparJCQ",
    "outputId": "c906d96d-c338-45e9-af95-697d4d492568"
   },
   "outputs": [
    {
     "name": "stdout",
     "output_type": "stream",
     "text": [
      "u*v= [ 4 21  4 12  9 32 45]\n"
     ]
    }
   ],
   "source": [
    "print('u*v=',cal_vectors('*',u,v))"
   ]
  },
  {
   "cell_type": "code",
   "execution_count": 11,
   "metadata": {
    "colab": {
     "base_uri": "https://localhost:8080/"
    },
    "id": "hgsmImadrT-k",
    "outputId": "00966a78-5c96-4c24-b306-5985ab839bb3"
   },
   "outputs": [
    {
     "name": "stdout",
     "output_type": "stream",
     "text": [
      "u.v= 127\n"
     ]
    }
   ],
   "source": [
    "print('u.v=',cal_vectors('dot',u,v))"
   ]
  },
  {
   "cell_type": "markdown",
   "metadata": {
    "id": "DeyutZt0P49r"
   },
   "source": [
    "#### Câu 2:\n",
    "        Viết hàm cal_vector_norm(t, v) với:\n",
    "            t là một trong các loại L1, L2, Max\n",
    "            v là vector.\n"
   ]
  },
  {
   "cell_type": "code",
   "execution_count": 12,
   "metadata": {
    "id": "t2EJRGIfP5ej"
   },
   "outputs": [],
   "source": [
    "import numpy as np\n",
    "from numpy.linalg import norm\n",
    "import math"
   ]
  },
  {
   "cell_type": "code",
   "execution_count": 18,
   "metadata": {},
   "outputs": [],
   "source": [
    "def cal_vector_norm(t,v):\n",
    "    if t=='L1':\n",
    "        result=norm(v,1)\n",
    "    elif t=='L2':\n",
    "        result=norm(v)\n",
    "    elif t=='Max':\n",
    "        result=norm(v,math.inf)\n",
    "    else: result=None\n",
    "    return result\n"
   ]
  },
  {
   "cell_type": "code",
   "execution_count": 14,
   "metadata": {},
   "outputs": [
    {
     "name": "stdout",
     "output_type": "stream",
     "text": [
      "v= [ 1  3 -4  5  7  9 -6]\n"
     ]
    }
   ],
   "source": [
    "v=np.array([1, 3, -4, 5, 7, 9, -6])\n",
    "print('v=',v)"
   ]
  },
  {
   "cell_type": "code",
   "execution_count": 23,
   "metadata": {},
   "outputs": [
    {
     "name": "stdout",
     "output_type": "stream",
     "text": [
      "L1= 35.0\n",
      "L2= 14.730919862656235\n",
      "Max= 9.0\n"
     ]
    }
   ],
   "source": [
    "print('L1=',cal_vector_norm('L1',v))\n",
    "print('L2=',cal_vector_norm('L2',v))\n",
    "print('Max=',cal_vector_norm('Max',v))"
   ]
  },
  {
   "cell_type": "markdown",
   "metadata": {},
   "source": [
    "## Ex2: Matrices"
   ]
  },
  {
   "cell_type": "markdown",
   "metadata": {},
   "source": [
    "#### Câu 1:\n",
    "        a) Viết hàm cal_matrices(op, m1, m2) với:\n",
    "            op là một trong các toán tử +, -, *, /\n",
    "            u và v là 2 ma trận (numpy array) \n",
    "        b) Thực hiện tính toán theo các toán tử với 2 ma trận được truyền vào."
   ]
  },
  {
   "cell_type": "code",
   "execution_count": 24,
   "metadata": {},
   "outputs": [],
   "source": [
    "import numpy as np"
   ]
  },
  {
   "cell_type": "code",
   "execution_count": 26,
   "metadata": {},
   "outputs": [],
   "source": [
    "def cal_metrices(op,m1,m2):\n",
    "    if op == '+':\n",
    "        result=m1+m2\n",
    "    elif op=='-':\n",
    "        result=m1-m2\n",
    "    elif op=='*':\n",
    "        result=m1*m2\n",
    "    elif op=='/':\n",
    "        result=m1/m2\n",
    "    else: result=None\n",
    "    return result"
   ]
  },
  {
   "cell_type": "code",
   "execution_count": 27,
   "metadata": {},
   "outputs": [
    {
     "name": "stdout",
     "output_type": "stream",
     "text": [
      "M1     =\n",
      " [[1 3 2 4]\n",
      " [4 3 6 8]\n",
      " [5 6 3 1]]\n",
      "M2     =\n",
      " [[2 4 5 1]\n",
      " [5 1 2 3]\n",
      " [1 8 1 9]]\n"
     ]
    }
   ],
   "source": [
    "m1 = np.array([[1, 3, 2, 4], [4, 3, 6, 8], [5, 6, 3, 1]])\n",
    "print('M1     =\\n', m1)\n",
    "\n",
    "m2 = np.array([[2, 4, 5, 1], [5, 1, 2, 3], [1, 8, 1, 9]])\n",
    "print('M2     =\\n', m2)\n"
   ]
  },
  {
   "cell_type": "code",
   "execution_count": 30,
   "metadata": {},
   "outputs": [
    {
     "name": "stdout",
     "output_type": "stream",
     "text": [
      "M1+M2=\n",
      " [[ 3  7  7  5]\n",
      " [ 9  4  8 11]\n",
      " [ 6 14  4 10]]\n",
      "M1-M2=\n",
      " [[-1 -1 -3  3]\n",
      " [-1  2  4  5]\n",
      " [ 4 -2  2 -8]]\n",
      "M1*M2=\n",
      " [[ 2 12 10  4]\n",
      " [20  3 12 24]\n",
      " [ 5 48  3  9]]\n",
      "M1/M2=\n",
      " [[0.5        0.75       0.4        4.        ]\n",
      " [0.8        3.         3.         2.66666667]\n",
      " [5.         0.75       3.         0.11111111]]\n"
     ]
    }
   ],
   "source": [
    "print('M1+M2=\\n',cal_metrices('+',m1,m2))\n",
    "print('M1-M2=\\n',cal_metrices('-',m1,m2))\n",
    "print('M1*M2=\\n',cal_metrices('*',m1,m2))\n",
    "print('M1/M2=\\n',cal_metrices('/',m1,m2))"
   ]
  },
  {
   "cell_type": "markdown",
   "metadata": {},
   "source": [
    " #### Câu 2:\n",
    "        Cho các ma trận A = [[1, 3, 3], [4, 5, 6], [7, 8, 9]] và \n",
    "                ma trận B = [[2, 3], [6, 8], [5, 7]]\n",
    "        Thực hiện nhân 2 ma trận. "
   ]
  },
  {
   "cell_type": "code",
   "execution_count": 31,
   "metadata": {},
   "outputs": [],
   "source": [
    "import numpy as np"
   ]
  },
  {
   "cell_type": "code",
   "execution_count": 33,
   "metadata": {},
   "outputs": [
    {
     "name": "stdout",
     "output_type": "stream",
     "text": [
      "A=\n",
      " [[1 3 3]\n",
      " [4 5 6]\n",
      " [7 8 9]]\n",
      "B=\n",
      " [[2 3]\n",
      " [6 8]\n",
      " [5 7]]\n"
     ]
    }
   ],
   "source": [
    "A=np.array([[1, 3, 3], [4, 5, 6], [7, 8, 9]])\n",
    "print('A=\\n',A)\n",
    "B=np.array([[2, 3], [6, 8], [5, 7]])\n",
    "print('B=\\n',B)"
   ]
  },
  {
   "cell_type": "code",
   "execution_count": 35,
   "metadata": {},
   "outputs": [
    {
     "name": "stdout",
     "output_type": "stream",
     "text": [
      "A.B=\n",
      " [[ 35  48]\n",
      " [ 68  94]\n",
      " [107 148]]\n",
      "A.B=\n",
      " [[ 35  48]\n",
      " [ 68  94]\n",
      " [107 148]]\n"
     ]
    }
   ],
   "source": [
    "print('A.B=\\n',A.dot(B))\n",
    "print('A.B=\\n',A@B)"
   ]
  },
  {
   "cell_type": "markdown",
   "metadata": {},
   "source": [
    "## Ex3: Vector, Matrix, Scalar"
   ]
  },
  {
   "cell_type": "markdown",
   "metadata": {},
   "source": [
    "#### Câu 1:\n",
    "        a) Viết hàm cal_scalar_mult(v, b) với:\n",
    "            v là vector hoặc ma trận (numpy array)\n",
    "            b là scalar.\n",
    "        b) Hãy thực hiện tính toán theo vector/ma trận/scalar được truyền vào"
   ]
  },
  {
   "cell_type": "code",
   "execution_count": null,
   "metadata": {},
   "outputs": [],
   "source": [
    "import numpy as np"
   ]
  },
  {
   "cell_type": "code",
   "execution_count": 36,
   "metadata": {},
   "outputs": [],
   "source": [
    "def cal_scalar_mult(v,b):\n",
    "    return v*b"
   ]
  },
  {
   "cell_type": "code",
   "execution_count": 37,
   "metadata": {},
   "outputs": [
    {
     "name": "stdout",
     "output_type": "stream",
     "text": [
      "A=\n",
      " [[4 5 2]\n",
      " [5 1 6]]\n",
      "A*5=\n",
      " [[20 25 10]\n",
      " [25  5 30]]\n"
     ]
    }
   ],
   "source": [
    "#Ma trận\n",
    "A=np.matrix([[4,5,2],[5,1,6]])\n",
    "print('A=\\n',A)\n",
    "print('A*5=\\n',cal_scalar_mult(A,5))\n"
   ]
  },
  {
   "cell_type": "code",
   "execution_count": 39,
   "metadata": {},
   "outputs": [
    {
     "name": "stdout",
     "output_type": "stream",
     "text": [
      "v1=\n",
      " [1 3 5 2 4]\n",
      "v1*5=\n",
      " [ 5 15 25 10 20]\n"
     ]
    }
   ],
   "source": [
    "#Array\n",
    "v=np.array([1,3,5,2,4])\n",
    "print('v1=\\n',v)\n",
    "print('v1*5=\\n',cal_scalar_mult(v,5))"
   ]
  },
  {
   "cell_type": "markdown",
   "metadata": {},
   "source": [
    "#### Câu 2:\n",
    "        a) Viết hàm cho phép người dùng nhập vào 1 ma trận A[mxn].\n",
    "        b) Viết hàm cho phép người dùng nhập vào 1 vector v[n].\n",
    "        c) Thực hiện phép nhân ma trận với vector trên."
   ]
  },
  {
   "cell_type": "code",
   "execution_count": null,
   "metadata": {},
   "outputs": [],
   "source": [
    " "
   ]
  }
 ],
 "metadata": {
  "colab": {
   "collapsed_sections": [],
   "name": "Welcome To Colaboratory",
   "provenance": [],
   "toc_visible": true
  },
  "kernelspec": {
   "display_name": "Python 3",
   "language": "python",
   "name": "python3"
  },
  "language_info": {
   "codemirror_mode": {
    "name": "ipython",
    "version": 3
   },
   "file_extension": ".py",
   "mimetype": "text/x-python",
   "name": "python",
   "nbconvert_exporter": "python",
   "pygments_lexer": "ipython3",
   "version": "3.8.3"
  }
 },
 "nbformat": 4,
 "nbformat_minor": 1
}
