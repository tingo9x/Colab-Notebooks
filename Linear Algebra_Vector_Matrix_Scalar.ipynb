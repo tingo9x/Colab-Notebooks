{
  "nbformat": 4,
  "nbformat_minor": 0,
  "metadata": {
    "colab": {
      "name": "Welcome To Colaboratory",
      "provenance": [],
      "collapsed_sections": [],
      "toc_visible": true
    },
    "kernelspec": {
      "display_name": "Python 3",
      "language": "python",
      "name": "python3"
    },
    "language_info": {
      "codemirror_mode": {
        "name": "ipython",
        "version": 3
      },
      "file_extension": ".py",
      "mimetype": "text/x-python",
      "name": "python",
      "nbconvert_exporter": "python",
      "pygments_lexer": "ipython3",
      "version": "3.8.3"
    }
  },
  "cells": [
    {
      "cell_type": "markdown",
      "metadata": {
        "id": "na1k93cuWsS3"
      },
      "source": [
        "# Linear Algebra: Vector-Matrix-Scalar"
      ]
    },
    {
      "cell_type": "markdown",
      "metadata": {
        "id": "CgDphtt0WsS5"
      },
      "source": [
        "## Ex1: Vectors"
      ]
    },
    {
      "cell_type": "code",
      "metadata": {
        "id": "S6nrHm7vn7z3"
      },
      "source": [
        "import numpy as np"
      ],
      "execution_count": null,
      "outputs": []
    },
    {
      "cell_type": "markdown",
      "metadata": {
        "id": "6oynxJyNpDRe"
      },
      "source": [
        " #### Câu 1:\n",
        "        a) Viết hàm cal_vectors(op, u, v) với:\n",
        "            op là một trong các toán tử +, -, *, /, \"dot\"\n",
        "            u và v là 2 vectors (numpy array) \n",
        "        b) Thực hiện tính toán theo các toán tử với 2 vectors được truyền vào."
      ]
    },
    {
      "cell_type": "code",
      "metadata": {
        "id": "TlwAXRdApE8G"
      },
      "source": [
        "def cal_vectors(op,u,v):\n",
        "  if op=='+':\n",
        "    result = u + v\n",
        "  elif op=='-':\n",
        "    result = u-v\n",
        "  elif op=='*':\n",
        "    result = u*v\n",
        "  elif op=='/':\n",
        "    result = u/v\n",
        "  elif op=='dot':\n",
        "    result = u.dot(v)\n",
        "  else: result = None\n",
        "  return result"
      ],
      "execution_count": null,
      "outputs": []
    },
    {
      "cell_type": "code",
      "metadata": {
        "colab": {
          "base_uri": "https://localhost:8080/"
        },
        "id": "x2XvPxjjptbG",
        "outputId": "95bd4036-e8e9-4751-8d1e-147021265063"
      },
      "source": [
        "u=np.array([1, 3, 4, 6, 3, 4, 5])\n",
        "v=np.array([4, 7, 1, 2, 3, 8, 9])\n",
        "print('u=',u)\n",
        "print('v=',v)"
      ],
      "execution_count": null,
      "outputs": [
        {
          "output_type": "stream",
          "text": [
            "u= [1 3 4 6 3 4 5]\n",
            "v= [4 7 1 2 3 8 9]\n"
          ],
          "name": "stdout"
        }
      ]
    },
    {
      "cell_type": "code",
      "metadata": {
        "colab": {
          "base_uri": "https://localhost:8080/"
        },
        "id": "j7xuI1tIq4-F",
        "outputId": "653864ba-bacc-4b74-8748-85ae1240e379"
      },
      "source": [
        "print('u+v=',cal_vectors('+',u,v))"
      ],
      "execution_count": null,
      "outputs": [
        {
          "output_type": "stream",
          "text": [
            "u+v= [ 5 10  5  8  6 12 14]\n"
          ],
          "name": "stdout"
        }
      ]
    },
    {
      "cell_type": "code",
      "metadata": {
        "colab": {
          "base_uri": "https://localhost:8080/"
        },
        "id": "XXpc1aparJCQ",
        "outputId": "c906d96d-c338-45e9-af95-697d4d492568"
      },
      "source": [
        "print('u*v=',cal_vectors('*',u,v))"
      ],
      "execution_count": null,
      "outputs": [
        {
          "output_type": "stream",
          "text": [
            "u*v= [ 4 21  4 12  9 32 45]\n"
          ],
          "name": "stdout"
        }
      ]
    },
    {
      "cell_type": "code",
      "metadata": {
        "colab": {
          "base_uri": "https://localhost:8080/"
        },
        "id": "hgsmImadrT-k",
        "outputId": "00966a78-5c96-4c24-b306-5985ab839bb3"
      },
      "source": [
        "print('u.v=',cal_vectors('dot',u,v))"
      ],
      "execution_count": null,
      "outputs": [
        {
          "output_type": "stream",
          "text": [
            "u.v= 127\n"
          ],
          "name": "stdout"
        }
      ]
    },
    {
      "cell_type": "markdown",
      "metadata": {
        "id": "DeyutZt0P49r"
      },
      "source": [
        "#### Câu 2:\n",
        "        Viết hàm cal_vector_norm(t, v) với:\n",
        "            t là một trong các loại L1, L2, Max\n",
        "            v là vector.\n"
      ]
    },
    {
      "cell_type": "code",
      "metadata": {
        "id": "t2EJRGIfP5ej"
      },
      "source": [
        "import numpy as np\n",
        "from numpy.linalg import norm\n",
        "import math"
      ],
      "execution_count": null,
      "outputs": []
    },
    {
      "cell_type": "code",
      "metadata": {
        "id": "c1PsP86kWsS8"
      },
      "source": [
        "def cal_vector_norm(t,v):\n",
        "    if t=='L1':\n",
        "        result=norm(v,1)\n",
        "    elif t=='L2':\n",
        "        result=norm(v)\n",
        "    elif t=='Max':\n",
        "        result=norm(v,math.inf)\n",
        "    else: result=None\n",
        "    return result\n"
      ],
      "execution_count": null,
      "outputs": []
    },
    {
      "cell_type": "code",
      "metadata": {
        "id": "oFbbxJnfWsS9",
        "outputId": "b937e8f5-ec1d-4e5f-c725-642f861abe0c"
      },
      "source": [
        "v=np.array([1, 3, -4, 5, 7, 9, -6])\n",
        "print('v=',v)"
      ],
      "execution_count": null,
      "outputs": [
        {
          "output_type": "stream",
          "text": [
            "v= [ 1  3 -4  5  7  9 -6]\n"
          ],
          "name": "stdout"
        }
      ]
    },
    {
      "cell_type": "code",
      "metadata": {
        "id": "CuQCvgVwWsS9",
        "outputId": "dc11844b-36e4-47f5-844d-3ae468dbe8de"
      },
      "source": [
        "print('L1=',cal_vector_norm('L1',v))\n",
        "print('L2=',cal_vector_norm('L2',v))\n",
        "print('Max=',cal_vector_norm('Max',v))"
      ],
      "execution_count": null,
      "outputs": [
        {
          "output_type": "stream",
          "text": [
            "L1= 35.0\n",
            "L2= 14.730919862656235\n",
            "Max= 9.0\n"
          ],
          "name": "stdout"
        }
      ]
    },
    {
      "cell_type": "markdown",
      "metadata": {
        "id": "nYsgCUhGWsS9"
      },
      "source": [
        "## Ex2: Matrices"
      ]
    },
    {
      "cell_type": "markdown",
      "metadata": {
        "id": "y5ZaWs8FWsS9"
      },
      "source": [
        "#### Câu 1:\n",
        "        a) Viết hàm cal_matrices(op, m1, m2) với:\n",
        "            op là một trong các toán tử +, -, *, /\n",
        "            u và v là 2 ma trận (numpy array) \n",
        "        b) Thực hiện tính toán theo các toán tử với 2 ma trận được truyền vào."
      ]
    },
    {
      "cell_type": "code",
      "metadata": {
        "id": "gPHk2PvMWsS9"
      },
      "source": [
        "import numpy as np"
      ],
      "execution_count": null,
      "outputs": []
    },
    {
      "cell_type": "code",
      "metadata": {
        "id": "WqDfQLF6WsS-"
      },
      "source": [
        "def cal_metrices(op,m1,m2):\n",
        "    if op == '+':\n",
        "        result=m1+m2\n",
        "    elif op=='-':\n",
        "        result=m1-m2\n",
        "    elif op=='*':\n",
        "        result=m1*m2\n",
        "    elif op=='/':\n",
        "        result=m1/m2\n",
        "    else: result=None\n",
        "    return result"
      ],
      "execution_count": null,
      "outputs": []
    },
    {
      "cell_type": "code",
      "metadata": {
        "id": "rTKrkih-WsS-",
        "outputId": "37286963-a726-46e4-e71b-e8f3e4ccfb28"
      },
      "source": [
        "m1 = np.array([[1, 3, 2, 4], [4, 3, 6, 8], [5, 6, 3, 1]])\n",
        "print('M1     =\\n', m1)\n",
        "\n",
        "m2 = np.array([[2, 4, 5, 1], [5, 1, 2, 3], [1, 8, 1, 9]])\n",
        "print('M2     =\\n', m2)\n"
      ],
      "execution_count": null,
      "outputs": [
        {
          "output_type": "stream",
          "text": [
            "M1     =\n",
            " [[1 3 2 4]\n",
            " [4 3 6 8]\n",
            " [5 6 3 1]]\n",
            "M2     =\n",
            " [[2 4 5 1]\n",
            " [5 1 2 3]\n",
            " [1 8 1 9]]\n"
          ],
          "name": "stdout"
        }
      ]
    },
    {
      "cell_type": "code",
      "metadata": {
        "id": "ufKPuv5JWsS-",
        "outputId": "55fe7af5-9166-43ff-cc38-5d4f35739879"
      },
      "source": [
        "print('M1+M2=\\n',cal_metrices('+',m1,m2))\n",
        "print('M1-M2=\\n',cal_metrices('-',m1,m2))\n",
        "print('M1*M2=\\n',cal_metrices('*',m1,m2))\n",
        "print('M1/M2=\\n',cal_metrices('/',m1,m2))"
      ],
      "execution_count": null,
      "outputs": [
        {
          "output_type": "stream",
          "text": [
            "M1+M2=\n",
            " [[ 3  7  7  5]\n",
            " [ 9  4  8 11]\n",
            " [ 6 14  4 10]]\n",
            "M1-M2=\n",
            " [[-1 -1 -3  3]\n",
            " [-1  2  4  5]\n",
            " [ 4 -2  2 -8]]\n",
            "M1*M2=\n",
            " [[ 2 12 10  4]\n",
            " [20  3 12 24]\n",
            " [ 5 48  3  9]]\n",
            "M1/M2=\n",
            " [[0.5        0.75       0.4        4.        ]\n",
            " [0.8        3.         3.         2.66666667]\n",
            " [5.         0.75       3.         0.11111111]]\n"
          ],
          "name": "stdout"
        }
      ]
    },
    {
      "cell_type": "markdown",
      "metadata": {
        "id": "96HYILCKWsS-"
      },
      "source": [
        " #### Câu 2:\n",
        "        Cho các ma trận A = [[1, 3, 3], [4, 5, 6], [7, 8, 9]] và \n",
        "                ma trận B = [[2, 3], [6, 8], [5, 7]]\n",
        "        Thực hiện nhân 2 ma trận. "
      ]
    },
    {
      "cell_type": "code",
      "metadata": {
        "id": "58nnftXGWsS_"
      },
      "source": [
        "import numpy as np"
      ],
      "execution_count": null,
      "outputs": []
    },
    {
      "cell_type": "code",
      "metadata": {
        "id": "Ge93N7m3WsS_",
        "outputId": "4fad0bb9-038d-4215-93ec-b9afd1a40fd1"
      },
      "source": [
        "A=np.array([[1, 3, 3], [4, 5, 6], [7, 8, 9]])\n",
        "print('A=\\n',A)\n",
        "B=np.array([[2, 3], [6, 8], [5, 7]])\n",
        "print('B=\\n',B)"
      ],
      "execution_count": null,
      "outputs": [
        {
          "output_type": "stream",
          "text": [
            "A=\n",
            " [[1 3 3]\n",
            " [4 5 6]\n",
            " [7 8 9]]\n",
            "B=\n",
            " [[2 3]\n",
            " [6 8]\n",
            " [5 7]]\n"
          ],
          "name": "stdout"
        }
      ]
    },
    {
      "cell_type": "code",
      "metadata": {
        "id": "VtjzMPqKWsS_",
        "outputId": "67277e03-222f-4eff-a855-2c01f25b08bb"
      },
      "source": [
        "print('A.B=\\n',A.dot(B))\n",
        "print('A.B=\\n',A@B)"
      ],
      "execution_count": null,
      "outputs": [
        {
          "output_type": "stream",
          "text": [
            "A.B=\n",
            " [[ 35  48]\n",
            " [ 68  94]\n",
            " [107 148]]\n",
            "A.B=\n",
            " [[ 35  48]\n",
            " [ 68  94]\n",
            " [107 148]]\n"
          ],
          "name": "stdout"
        }
      ]
    },
    {
      "cell_type": "markdown",
      "metadata": {
        "id": "q4dNdhOYWsS_"
      },
      "source": [
        "## Ex3: Vector, Matrix, Scalar"
      ]
    },
    {
      "cell_type": "markdown",
      "metadata": {
        "id": "UC3ZF8LAWsS_"
      },
      "source": [
        "#### Câu 1:\n",
        "        a) Viết hàm cal_scalar_mult(v, b) với:\n",
        "            v là vector hoặc ma trận (numpy array)\n",
        "            b là scalar.\n",
        "        b) Hãy thực hiện tính toán theo vector/ma trận/scalar được truyền vào"
      ]
    },
    {
      "cell_type": "code",
      "metadata": {
        "id": "gx3NPX5gWsTA"
      },
      "source": [
        "import numpy as np"
      ],
      "execution_count": null,
      "outputs": []
    },
    {
      "cell_type": "code",
      "metadata": {
        "id": "z4qF6G-LWsTA"
      },
      "source": [
        "def cal_scalar_mult(v,b):\n",
        "    return v*b"
      ],
      "execution_count": null,
      "outputs": []
    },
    {
      "cell_type": "code",
      "metadata": {
        "id": "Vni7-u6_WsTA",
        "outputId": "dba442da-ba20-4cdb-9ef9-fdbce2c3c783"
      },
      "source": [
        "#Ma trận\n",
        "A=np.matrix([[4,5,2],[5,1,6]])\n",
        "print('A=\\n',A)\n",
        "print('A*5=\\n',cal_scalar_mult(A,5))\n"
      ],
      "execution_count": null,
      "outputs": [
        {
          "output_type": "stream",
          "text": [
            "A=\n",
            " [[4 5 2]\n",
            " [5 1 6]]\n",
            "A*5=\n",
            " [[20 25 10]\n",
            " [25  5 30]]\n"
          ],
          "name": "stdout"
        }
      ]
    },
    {
      "cell_type": "code",
      "metadata": {
        "id": "usGk1JN4WsTA",
        "outputId": "4dc79d26-55da-4cc0-814f-635be3813d7e"
      },
      "source": [
        "#Array\n",
        "v=np.array([1,3,5,2,4])\n",
        "print('v1=\\n',v)\n",
        "print('v1*5=\\n',cal_scalar_mult(v,5))"
      ],
      "execution_count": null,
      "outputs": [
        {
          "output_type": "stream",
          "text": [
            "v1=\n",
            " [1 3 5 2 4]\n",
            "v1*5=\n",
            " [ 5 15 25 10 20]\n"
          ],
          "name": "stdout"
        }
      ]
    },
    {
      "cell_type": "markdown",
      "metadata": {
        "id": "B6Hg0ASXWsTA"
      },
      "source": [
        "#### Câu 2:\n",
        "        a) Viết hàm cho phép người dùng nhập vào 1 ma trận A[mxn].\n",
        "        b) Viết hàm cho phép người dùng nhập vào 1 vector v[n].\n",
        "        c) Thực hiện phép nhân ma trận với vector trên."
      ]
    },
    {
      "cell_type": "code",
      "metadata": {
        "id": "-3Lzpw91XNEG"
      },
      "source": [
        "import numpy as np"
      ],
      "execution_count": 5,
      "outputs": []
    },
    {
      "cell_type": "code",
      "metadata": {
        "id": "JUtFLPxOWsTA"
      },
      "source": [
        "#Câu a\n",
        "#Nhập các giá trị của ma trận A(m,n) từ bàn phím\n",
        "def create_matrix(m,n):\n",
        "  matr=[]\n",
        "  for i in range(m):\n",
        "    row=[]\n",
        "    for j in range(n):\n",
        "      s='Nhập giá trị A[' + str(i+1) + ',' + str(j+1) + ']='\n",
        "      a=eval(input(s))\n",
        "# Thêm giá trị vào dòng hiện hành\n",
        "      row.append(a)\n",
        "#Thêm vào dòng ma trận\n",
        "    matr.append(row)\n",
        "  return np.array(matr)\n"
      ],
      "execution_count": 16,
      "outputs": []
    },
    {
      "cell_type": "code",
      "metadata": {
        "id": "W6syB_3nY68A",
        "outputId": "c35e4694-98c2-40d7-bcd6-d3370a22e11c",
        "colab": {
          "base_uri": "https://localhost:8080/"
        }
      },
      "source": [
        "m = eval(input(\"Số dòng m = \"))\n",
        "n = eval(input(\"Số cột  n = \"))"
      ],
      "execution_count": 17,
      "outputs": [
        {
          "output_type": "stream",
          "text": [
            "Số dòng m = 2\n",
            "Số cột  n = 2\n"
          ],
          "name": "stdout"
        }
      ]
    },
    {
      "cell_type": "code",
      "metadata": {
        "id": "37uviJfCY_Tn",
        "outputId": "8d81af60-a931-425a-bced-4073b84f379f",
        "colab": {
          "base_uri": "https://localhost:8080/"
        }
      },
      "source": [
        "A = create_matrix(m, n)\n",
        "print(A)"
      ],
      "execution_count": 18,
      "outputs": [
        {
          "output_type": "stream",
          "text": [
            "Nhập giá trị A[1,1]=2\n",
            "Nhập giá trị A[1,2]=3\n",
            "Nhập giá trị A[2,1]=2\n",
            "Nhập giá trị A[2,2]=3\n",
            "[[2 3]\n",
            " [2 3]]\n"
          ],
          "name": "stdout"
        }
      ]
    },
    {
      "cell_type": "code",
      "metadata": {
        "id": "Bqnl4VOrZFnY"
      },
      "source": [
        "def create_matrix(m, n):\n",
        "    mtr = []\n",
        "    for i in range(m):\n",
        "        row = []\n",
        "        for j in range(n):\n",
        "            s = \"Nhập giá trị A[\" + str(i + 1) + \", \" + str(j + 1) + \"] = \"\n",
        "            a = eval(input(s))\n",
        "            \n",
        "            # Thêm giá trị vào dòng hiện hành \n",
        "            row.append(a)\n",
        "            \n",
        "        # Thêm dòng vào ma trận    \n",
        "        mtr.append(row)\n",
        "        \n",
        "    return np.array(mtr)"
      ],
      "execution_count": 14,
      "outputs": []
    },
    {
      "cell_type": "code",
      "metadata": {
        "id": "Jvkpsf2mZ2mI",
        "outputId": "0237ab82-08cd-4564-c679-c54e2e6415e8",
        "colab": {
          "base_uri": "https://localhost:8080/"
        }
      },
      "source": [
        "m = eval(input(\"Số dòng m = \"))\n",
        "n = eval(input(\"Số cột  n = \"))\n",
        "    \n",
        "## Tạo ma trận A\n",
        "A = create_matrix(m, n)\n",
        "print('A =\\n', A)"
      ],
      "execution_count": 15,
      "outputs": [
        {
          "output_type": "stream",
          "text": [
            "Số dòng m = 2\n",
            "Số cột  n = 2\n",
            "Nhập giá trị A[1, 1] = 1\n",
            "Nhập giá trị A[1, 2] = 2\n",
            "Nhập giá trị A[2, 1] = 4\n",
            "Nhập giá trị A[2, 2] = 5\n",
            "A =\n",
            " [[1 2]\n",
            " [4 5]]\n"
          ],
          "name": "stdout"
        }
      ]
    },
    {
      "cell_type": "code",
      "metadata": {
        "id": "FzylnicVZ5V3"
      },
      "source": [
        ""
      ],
      "execution_count": null,
      "outputs": []
    }
  ]
}