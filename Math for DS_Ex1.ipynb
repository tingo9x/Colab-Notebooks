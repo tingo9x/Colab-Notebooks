{
  "nbformat": 4,
  "nbformat_minor": 0,
  "metadata": {
    "colab": {
      "name": "Welcome To Colaboratory",
      "provenance": [],
      "collapsed_sections": [],
      "toc_visible": true,
      "include_colab_link": true
    },
    "kernelspec": {
      "display_name": "Python 3",
      "name": "python3"
    }
  },
  "cells": [
    {
      "cell_type": "markdown",
      "metadata": {
        "id": "view-in-github",
        "colab_type": "text"
      },
      "source": [
        "<a href=\"https://colab.research.google.com/github/tingo9x/Colab-Notebooks/blob/main/Math%20for%20DS_Ex1.ipynb\" target=\"_parent\"><img src=\"https://colab.research.google.com/assets/colab-badge.svg\" alt=\"Open In Colab\"/></a>"
      ]
    },
    {
      "cell_type": "code",
      "metadata": {
        "id": "S6nrHm7vn7z3"
      },
      "source": [
        "import numpy as np"
      ],
      "execution_count": 1,
      "outputs": []
    },
    {
      "cell_type": "markdown",
      "metadata": {
        "id": "6oynxJyNpDRe"
      },
      "source": [
        " ### Câu 1:\n",
        "        a) Viết hàm cal_vectors(op, u, v) với:\n",
        "            op là một trong các toán tử +, -, *, /, \"dot\"\n",
        "            u và v là 2 vectors (numpy array) \n",
        "        b) Thực hiện tính toán theo các toán tử với 2 vectors được truyền vào."
      ]
    },
    {
      "cell_type": "code",
      "metadata": {
        "id": "TlwAXRdApE8G"
      },
      "source": [
        "def cal_vectors(op,u,v):\n",
        "  if op=='+':\n",
        "    result = u + v\n",
        "  elif op=='-':\n",
        "    result = u-v\n",
        "  elif op=='*':\n",
        "    result = u*v\n",
        "  elif op=='/':\n",
        "    result = u/v\n",
        "  elif op=='dot':\n",
        "    result = u.dot(v)\n",
        "  else: result = None\n",
        "  return result"
      ],
      "execution_count": 4,
      "outputs": []
    },
    {
      "cell_type": "code",
      "metadata": {
        "id": "x2XvPxjjptbG",
        "outputId": "95bd4036-e8e9-4751-8d1e-147021265063",
        "colab": {
          "base_uri": "https://localhost:8080/"
        }
      },
      "source": [
        "u=np.array([1, 3, 4, 6, 3, 4, 5])\n",
        "v=np.array([4, 7, 1, 2, 3, 8, 9])\n",
        "print('u=',u)\n",
        "print('v=',v)"
      ],
      "execution_count": 5,
      "outputs": [
        {
          "output_type": "stream",
          "text": [
            "u= [1 3 4 6 3 4 5]\n",
            "v= [4 7 1 2 3 8 9]\n"
          ],
          "name": "stdout"
        }
      ]
    },
    {
      "cell_type": "code",
      "metadata": {
        "id": "j7xuI1tIq4-F",
        "outputId": "653864ba-bacc-4b74-8748-85ae1240e379",
        "colab": {
          "base_uri": "https://localhost:8080/"
        }
      },
      "source": [
        "print('u+v=',cal_vectors('+',u,v))"
      ],
      "execution_count": 7,
      "outputs": [
        {
          "output_type": "stream",
          "text": [
            "u+v= [ 5 10  5  8  6 12 14]\n"
          ],
          "name": "stdout"
        }
      ]
    },
    {
      "cell_type": "code",
      "metadata": {
        "id": "XXpc1aparJCQ",
        "outputId": "c906d96d-c338-45e9-af95-697d4d492568",
        "colab": {
          "base_uri": "https://localhost:8080/"
        }
      },
      "source": [
        "print('u*v=',cal_vectors('*',u,v))"
      ],
      "execution_count": 8,
      "outputs": [
        {
          "output_type": "stream",
          "text": [
            "u*v= [ 4 21  4 12  9 32 45]\n"
          ],
          "name": "stdout"
        }
      ]
    },
    {
      "cell_type": "code",
      "metadata": {
        "id": "hgsmImadrT-k",
        "outputId": "00966a78-5c96-4c24-b306-5985ab839bb3",
        "colab": {
          "base_uri": "https://localhost:8080/"
        }
      },
      "source": [
        "print('u.v=',cal_vectors('dot',u,v))"
      ],
      "execution_count": 9,
      "outputs": [
        {
          "output_type": "stream",
          "text": [
            "u.v= 127\n"
          ],
          "name": "stdout"
        }
      ]
    },
    {
      "cell_type": "markdown",
      "metadata": {
        "id": "DeyutZt0P49r"
      },
      "source": [
        "### Câu 2:\n",
        "        Viết hàm cal_vector_norm(t, v) với:\n",
        "            t là một trong các loại L1, L2, Max\n",
        "            v là vector.\n"
      ]
    },
    {
      "cell_type": "code",
      "metadata": {
        "id": "t2EJRGIfP5ej"
      },
      "source": [
        ""
      ],
      "execution_count": null,
      "outputs": []
    }
  ]
}